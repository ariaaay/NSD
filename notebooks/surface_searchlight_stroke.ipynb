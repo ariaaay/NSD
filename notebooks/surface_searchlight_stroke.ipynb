{
 "cells": [
  {
   "cell_type": "code",
   "execution_count": 19,
   "metadata": {},
   "outputs": [],
   "source": [
    "import cortex\n",
    "import numpy as np\n",
    "import matplotlib.pyplot as plt"
   ]
  },
  {
   "cell_type": "code",
   "execution_count": 20,
   "metadata": {},
   "outputs": [],
   "source": [
    "%matplotlib inline"
   ]
  },
  {
   "cell_type": "code",
   "execution_count": 21,
   "metadata": {},
   "outputs": [
    {
     "data": {
      "text/plain": [
       "'/lab_data/tarrlab/common/datasets/pycortex_db_NSD'"
      ]
     },
     "execution_count": 21,
     "metadata": {},
     "output_type": "execute_result"
    }
   ],
   "source": [
    "cortex.database.default_filestore"
   ]
  },
  {
   "cell_type": "code",
   "execution_count": 22,
   "metadata": {},
   "outputs": [
    {
     "name": "stdout",
     "output_type": "stream",
     "text": [
      "/home/yuanw3/.config/pycortex/options.cfg\n",
      "/home/yuanw3/.local/share/pycortex/colormaps/\n"
     ]
    }
   ],
   "source": [
    "print(cortex.options.usercfg)\n",
    "from cortex.options import config\n",
    "print(config.get('webgl', 'colormaps'))"
   ]
  },
  {
   "cell_type": "code",
   "execution_count": 23,
   "metadata": {},
   "outputs": [],
   "source": [
    "from scipy.sparse import csr_matrix"
   ]
  },
  {
   "cell_type": "code",
   "execution_count": 24,
   "metadata": {},
   "outputs": [],
   "source": [
    "# surface = 'sub-09-stroke'\n",
    "surface = \"subj01\"\n",
    "# xfm = 'sub-09_ses-01_task-Fullfield_run-01MRIDeSkulledOptimizedFeatures'\n",
    "xfm = \"func1pt8_to_anat0pt8_autoFSbbr\"\n",
    "\n",
    "# mask = cortex.db.get_mask(surface,xfm,'cortical')\n",
    "mask=cortex.utils.get_cortical_mask(surface, xfm)"
   ]
  },
  {
   "cell_type": "code",
   "execution_count": 25,
   "metadata": {},
   "outputs": [
    {
     "name": "stdout",
     "output_type": "stream",
     "text": [
      "(83, 104, 81)\n"
     ]
    }
   ],
   "source": [
    "print(mask.shape)"
   ]
  },
  {
   "cell_type": "code",
   "execution_count": 26,
   "metadata": {},
   "outputs": [
    {
     "name": "stdout",
     "output_type": "stream",
     "text": [
      "74497\n",
      "74497\n"
     ]
    }
   ],
   "source": [
    "print(np.sum(mask>0))\n",
    "print(mask.sum())"
   ]
  },
  {
   "cell_type": "code",
   "execution_count": 27,
   "metadata": {},
   "outputs": [],
   "source": [
    "mask_with_idx = np.zeros(mask.shape)\n",
    "mask_with_idx[mask==False] = np.nan\n",
    "mask_with_idx[mask==True] = np.arange(mask.sum())"
   ]
  },
  {
   "cell_type": "code",
   "execution_count": 28,
   "metadata": {},
   "outputs": [
    {
     "data": {
      "text/plain": [
       "(83, 104, 81)"
      ]
     },
     "execution_count": 28,
     "metadata": {},
     "output_type": "execute_result"
    }
   ],
   "source": [
    "mask_with_idx.shape"
   ]
  },
  {
   "cell_type": "code",
   "execution_count": 29,
   "metadata": {},
   "outputs": [
    {
     "name": "stdout",
     "output_type": "stream",
     "text": [
      "Caching mapper...\n"
     ]
    }
   ],
   "source": [
    "# mapper = cortex.get_mapper(surface, xfm, 'nearest', recache=True)\n",
    "mapper = cortex.get_mapper(surface, xfm, 'trilinear', layers=32, recache=True)"
   ]
  },
  {
   "cell_type": "code",
   "execution_count": 12,
   "metadata": {},
   "outputs": [],
   "source": [
    "tmp = np.zeros(mask.shape)\n",
    "tmp[mask_with_idx==1] = 1\n",
    "voxel_vol = cortex.Volume(tmp,surface,xfm)"
   ]
  },
  {
   "cell_type": "code",
   "execution_count": 13,
   "metadata": {},
   "outputs": [
    {
     "name": "stdout",
     "output_type": "stream",
     "text": [
      "(83, 104, 81)\n",
      "1.0\n"
     ]
    }
   ],
   "source": [
    "print(tmp.shape)\n",
    "print(np.sum(tmp))"
   ]
  },
  {
   "cell_type": "code",
   "execution_count": 14,
   "metadata": {},
   "outputs": [],
   "source": [
    "nc = mapper(voxel_vol).data.shape[0]\n",
    "nc1 = int(np.floor(nc/2)) # for efficiency\n",
    "nc2 = nc-nc1\n",
    "\n",
    "all_idx_1 = np.zeros((mask.sum(),nc1), dtype=bool) # (#voxel x nc1) \n",
    "all_idx_2 = np.zeros((mask.sum(),nc2), dtype=bool) # (#voxel x nc2) "
   ]
  },
  {
   "cell_type": "code",
   "execution_count": 15,
   "metadata": {},
   "outputs": [
    {
     "name": "stdout",
     "output_type": "stream",
     "text": [
      "1.26588963282849\n",
      "453622\n"
     ]
    }
   ],
   "source": [
    "print(np.sum(mapper(voxel_vol).data))\n",
    "print(len(mapper(voxel_vol).data))"
   ]
  },
  {
   "cell_type": "code",
   "execution_count": 16,
   "metadata": {},
   "outputs": [
    {
     "name": "stdout",
     "output_type": "stream",
     "text": [
      "453622\n",
      "226811\n",
      "226811\n",
      "74497\n",
      "74497\n",
      "226811\n",
      "74497\n",
      "226811\n"
     ]
    }
   ],
   "source": [
    "print(nc)\n",
    "print(nc1)\n",
    "print(nc1)\n",
    "print(mask.sum())\n",
    "print(len(all_idx_1))\n",
    "print(len(all_idx_1[0]))\n",
    "print(len(all_idx_2))\n",
    "print(len(all_idx_2[0]))"
   ]
  },
  {
   "cell_type": "code",
   "execution_count": 17,
   "metadata": {},
   "outputs": [
    {
     "name": "stdout",
     "output_type": "stream",
     "text": [
      "(453622,)\n",
      "(array([344408, 344409, 344423, 345900, 345901, 345915, 345916, 345917,\n",
      "       345927, 347306, 347324, 347325, 347341, 348814, 348815, 383695,\n",
      "       383696, 385004, 385005, 385006, 386312, 386315, 386316, 386317,\n",
      "       387676, 387679, 387680]),)\n"
     ]
    }
   ],
   "source": [
    "###########################\n",
    "#test with a sample voxel #\n",
    "###########################\n",
    "j = 10001\n",
    "tmp[mask_with_idx==j] = 1 # set that voxel to be true in the volume \n",
    "voxel_vol = cortex.Volume(tmp,surface,xfm) # make a volume object out of it\n",
    "tmp = mapper(voxel_vol).data > 0 # make a \"binary\" array where vertexes are on for that voxel \n",
    "print(tmp.shape)\n",
    "print(np.nonzero(tmp))\n",
    "all_idx_1[j] = tmp[:nc1] # boolean \n",
    "all_idx_2[j] = tmp[nc1:]"
   ]
  },
  {
   "cell_type": "code",
   "execution_count": null,
   "metadata": {
    "scrolled": true
   },
   "outputs": [],
   "source": [
    "# # list of non-zero arguments\n",
    "# for j in np.arange(mask.sum()): # for each voxel j\n",
    "#     tmp = np.zeros(mask.shape) # temporary 3d volume\n",
    "#     tmp[mask_with_idx==j] = 1 # set that voxel to be true in the volume \n",
    "#     voxel_vol = cortex.Volume(tmp,surface,xfm) # make a volume object out of it\n",
    "#     tmp = mapper(voxel_vol).data > 0 # make a \"binary\" array where vertexes are on for that voxel \n",
    "#     all_idx_1[j] = tmp[:nc1] # boolean \n",
    "#     all_idx_2[j] = tmp[nc1:]\n",
    "#     if j%1000==0:\n",
    "#         print(j)\n",
    "        \n",
    "\n",
    "# list of non-zero arguments\n",
    "for j in np.arange(mask.sum()): # for each voxel j\n",
    "    tmp = np.zeros(mask.shape) # temporary 3d volume\n",
    "    tmp[mask_with_idx==j] = 10 # set that voxel to be true in the volume \n",
    "    voxel_vol = cortex.Volume(tmp,surface,xfm) # make a volume object out of it\n",
    "    tmp = mapper(voxel_vol).data > 0 # make a \"binary\" array where vertexes are on for that voxel \n",
    "    tmp = tmp.astype(bool)\n",
    "    all_idx_1[j,tmp[:nc1]==True] = 1 # boolean \n",
    "    all_idx_2[j,tmp[nc1:]==True] = 1 \n",
    "    if j%1000==0:\n",
    "        print(j, tmp.sum())"
   ]
  },
  {
   "cell_type": "code",
   "execution_count": null,
   "metadata": {
    "scrolled": true
   },
   "outputs": [],
   "source": [
    "all_vox = np.zeros((mask.sum(),mask.sum()))"
   ]
  },
  {
   "cell_type": "code",
   "execution_count": null,
   "metadata": {},
   "outputs": [],
   "source": [
    "###########################\n",
    "#test with a sample voxel #\n",
    "###########################\n",
    "j = 10001\n",
    "non_zero_1 = all_idx_1[j]>0 # boolean array of non zero vertexs for that voxel\n",
    "sub_mat_1 = all_idx_1[:,non_zero_1].sum(1) # an array of voxel that are adjacent to those vertexes\n",
    "all_vox[j,sub_mat_1>0] = 1\n",
    "non_zero_2 = all_idx_2[j]>0\n",
    "sub_mat_2 = all_idx_2[:,non_zero_2].sum(1)\n",
    "all_vox[j,sub_mat_2>0] = 1\n",
    "\n",
    "print(np.sum(all_vox))"
   ]
  },
  {
   "cell_type": "code",
   "execution_count": null,
   "metadata": {
    "scrolled": true
   },
   "outputs": [],
   "source": [
    "all_vox = np.zeros((mask.sum(),mask.sum())) # initiate a voxel adjacency matrix\n",
    "\n",
    "for j in np.arange(mask.sum()): # for each voxel\n",
    "    non_zero_1 = all_idx_1[j]>0 # boolean array of non zero vertexs for that voxel\n",
    "    sub_mat_1 = all_idx_1[:,non_zero_1].sum(1) # an array of voxel that are adjacent to those indexes\n",
    "    all_vox[j,sub_mat_1>0] = 1 # set the adjacent voxels to positive in the matrix\n",
    "    non_zero_2 = all_idx_2[j]>0 # repeat the same process for the second half\n",
    "    sub_mat_2 = all_idx_2[:,non_zero_2].sum(1)\n",
    "    all_vox[j,sub_mat_2>0] = 1\n",
    "    if j%1000==0:\n",
    "        print(j)"
   ]
  },
  {
   "cell_type": "code",
   "execution_count": null,
   "metadata": {},
   "outputs": [],
   "source": [
    "max_n_neighbors = int(np.max(all_vox.sum(1)))+1 # max number of neighbors any voxel has\n",
    "print(max_n_neighbors)\n",
    "\n",
    "all_vox_neighbors = np.zeros((mask.sum(),max_n_neighbors))-1 # initiate a array of -1 to store neighbors\n",
    "\n",
    "for j in np.arange(mask.sum()): # for each voxel\n",
    "    tmp = np.where(all_vox[j]>0)[0] # find the indexs of its neighboring voxels\n",
    "    tmp = np.concatenate([tmp,np.array([j])]) # concatenate the indexes with itself\n",
    "    all_vox_neighbors[j,0:len(tmp)] = tmp # store it in the array"
   ]
  },
  {
   "cell_type": "code",
   "execution_count": 47,
   "metadata": {},
   "outputs": [],
   "source": [
    "max_2nd_neighbors = 200\n",
    "\n",
    "all_vox_2nd_neighbors = np.zeros((mask.sum(),max_2nd_neighbors))-1\n",
    "\n",
    "for j in np.arange(mask.sum()):    \n",
    "    tmp2 = all_vox_neighbors[j] # indexes of all neighbors of voxel j\n",
    "    tmp2 = tmp2[tmp2>=0].astype(int) \n",
    "    tmp = np.unique(all_vox_neighbors[tmp2])\n",
    "    tmp = tmp[tmp>=0]\n",
    "    all_vox_2nd_neighbors[j,:len(tmp)] = tmp\n",
    "\n"
   ]
  },
  {
   "cell_type": "code",
   "execution_count": 30,
   "metadata": {},
   "outputs": [],
   "source": [
    "# np.save('/user_data/yuanw3/project_outputs/NSD/output/searchlight/vox_neighborhood_subj1.npy',all_vox_neighbors)\n",
    "all_vox_neighbors = np.load('/user_data/yuanw3/project_outputs/NSD/output/searchlight/vox_neighborhood_subj1.npy')"
   ]
  },
  {
   "cell_type": "code",
   "execution_count": 48,
   "metadata": {},
   "outputs": [],
   "source": [
    "np.save('/user_data/yuanw3/project_outputs/NSD/output/searchlight/vox_2nd_neighbors_subj1.npy', all_vox_2nd_neighbors)\n",
    "# all_vox_2nd_neighbors = np.load('/user_data/yuanw3/project_outputs/NSD/output/searchlight/vox_2nd_neighbors_subj1.npy')"
   ]
  },
  {
   "cell_type": "code",
   "execution_count": 36,
   "metadata": {},
   "outputs": [
    {
     "data": {
      "text/plain": [
       "(74497, 27)"
      ]
     },
     "execution_count": 36,
     "metadata": {},
     "output_type": "execute_result"
    }
   ],
   "source": [
    "all_vox_neighbors.shape"
   ]
  },
  {
   "cell_type": "code",
   "execution_count": 37,
   "metadata": {},
   "outputs": [
    {
     "data": {
      "text/plain": [
       "array([ 0.0000e+00,  1.0000e+00,  9.0000e+00,  1.0000e+01,  1.1000e+01,\n",
       "        1.6000e+01,  1.7000e+01,  1.8000e+01,  2.3000e+01,  2.4000e+01,\n",
       "        2.5000e+01,  1.0001e+04,  1.0000e+00, -1.0000e+00, -1.0000e+00,\n",
       "       -1.0000e+00, -1.0000e+00, -1.0000e+00, -1.0000e+00, -1.0000e+00,\n",
       "       -1.0000e+00, -1.0000e+00, -1.0000e+00, -1.0000e+00, -1.0000e+00,\n",
       "       -1.0000e+00, -1.0000e+00])"
      ]
     },
     "execution_count": 37,
     "metadata": {},
     "output_type": "execute_result"
    }
   ],
   "source": [
    "all_vox_neighbors[1,:]"
   ]
  },
  {
   "cell_type": "code",
   "execution_count": 38,
   "metadata": {},
   "outputs": [
    {
     "data": {
      "text/plain": [
       "<matplotlib.colorbar.Colorbar at 0x7fd062b353a0>"
      ]
     },
     "execution_count": 38,
     "metadata": {},
     "output_type": "execute_result"
    },
    {
     "data": {
      "image/png": "[encoded data removed]",
      "text/plain": [
       "<Figure size 432x288 with 2 Axes>"
      ]
     },
     "metadata": {
      "needs_background": "light"
     },
     "output_type": "display_data"
    }
   ],
   "source": [
    "plt.imshow(all_vox_neighbors[:30,:])\n",
    "plt.colorbar()"
   ]
  },
  {
   "cell_type": "code",
   "execution_count": 39,
   "metadata": {},
   "outputs": [
    {
     "data": {
      "text/plain": [
       "(74497, 80)"
      ]
     },
     "execution_count": 39,
     "metadata": {},
     "output_type": "execute_result"
    }
   ],
   "source": [
    "all_vox_2nd_neighbors.shape"
   ]
  },
  {
   "cell_type": "code",
   "execution_count": 50,
   "metadata": {},
   "outputs": [
    {
     "name": "stdout",
     "output_type": "stream",
     "text": [
      "Started server on port 24124\n"
     ]
    },
    {
     "data": {
      "text/plain": [
       "<JS: window.viewer>"
      ]
     },
     "execution_count": 50,
     "metadata": {},
     "output_type": "execute_result"
    }
   ],
   "source": [
    "vols = dict()\n",
    "\n",
    "data = np.zeros((30,mask.sum())) # voxels to be visualized\n",
    "\n",
    "for i in range(30):\n",
    "    voxels = all_vox_2nd_neighbors[20000+i]\n",
    "#     voxels = np.where(all_vox[i+25000]>0)[0]\n",
    "    voxels = voxels[voxels>=0]\n",
    "    voxels = np.unique(voxels).astype(int)\n",
    "#     print(\"Num of neighbors: \" + str(len(voxels)))\n",
    "    data[i][voxels] = 1\n",
    "    data[i][20000+i] = 2\n",
    "    vols['{}'.format(i)] = cortex.Volume(data[i], surface, xfm, mask=mask, vmin=0,vmax=2)\n",
    "    \n",
    "cortex.webgl.show(vols, cmap=\"Blues\", port=24124)\n",
    "# cortex.quickshow(vols['0'])"
   ]
  },
  {
   "cell_type": "code",
   "execution_count": null,
   "metadata": {},
   "outputs": [],
   "source": [
    "subject = 'subj01'\n",
    "\n",
    "# In order to get the number of vertices in this subject's cortical surface\n",
    "# we have to load in their surfaces and get the number of points in each\n",
    "surfs = [cortex.polyutils.Surface(*d)\n",
    "         for d in cortex.db.get_surf(subject, \"fiducial\")]\n",
    "\n",
    "# This is the total number of vertices in both hemispheres combined\n",
    "num_verts = surfs[0].pts.shape[0] + surfs[1].pts.shape[0]\n",
    "\n",
    "# Creating a random dataset with one entry for each vertex\n",
    "test_data = np.arange(num_verts)/num_verts\n",
    "\n",
    "# This creates a Vertex object for our subject and test dataset\n",
    "vertex_data = cortex.Vertex(test_data, subject)\n",
    "# And now we can display it on a flatmap\n",
    "# cortex.quickshow(vertex_data)\n",
    "cortex.webshow(vertex_data)"
   ]
  },
  {
   "cell_type": "code",
   "execution_count": null,
   "metadata": {},
   "outputs": [],
   "source": [
    "subject = \"subj01\"\n",
    "\n",
    "# First we need to import the surfaces for this subject\n",
    "surfs = [cortex.polyutils.Surface(*d)\n",
    "         for d in cortex.db.get_surf(subject, \"fiducial\")]\n",
    "\n",
    "# Then we will pick one vertex in each hemisphere to find distances to\n",
    "vert = 10000\n",
    "dists = [s.geodesic_distance(vert) for s in surfs]\n",
    "\n",
    "# Now we can plot these distances onto a flatmap\n",
    "all_dists = np.hstack((dists[0], dists[1]))\n",
    "dist_map = cortex.Vertex(all_dists, subject, cmap=\"hot\")\n",
    "cortex.quickshow(dist_map,with_rois=False)\n",
    "# plt.show()\n",
    "\n",
    "# Alternatively, you can find the minimum distance from a set of points to the\n",
    "# surface\n",
    "# Here, we use an example of an ROI\n",
    "all_eba = cortex.utils.get_roi_verts(subject, \"EBA\")[\"EBA\"]\n",
    "\n",
    "# We have to then separate these vertices by hemisphere\n",
    "numl = surfs[0].pts.shape[0]\n",
    "eba_verts = [all_eba[all_eba < numl], all_eba[all_eba >= numl] - numl]\n",
    "\n",
    "# Now look at geodesic distances for each hemisphere separately\n",
    "dists = [s.geodesic_distance(verts) for s, verts in zip(surfs, eba_verts)]\n",
    "all_dists = np.hstack((dists[0], dists[1]))\n",
    "\n",
    "# And now plot these distances onto the cortical surface\n",
    "dist_map = cortex.Vertex(all_dists, subject, cmap=\"hot\")\n",
    "cortex.quickshow(dist_map,with_rois=False);\n",
    "# plt.show()"
   ]
  },
  {
   "cell_type": "code",
   "execution_count": null,
   "metadata": {},
   "outputs": [],
   "source": []
  }
 ],
 "metadata": {
  "kernelspec": {
   "display_name": "Python 3",
   "language": "python",
   "name": "python3"
  },
  "language_info": {
   "codemirror_mode": {
    "name": "ipython",
    "version": 3
   },
   "file_extension": ".py",
   "mimetype": "text/x-python",
   "name": "python",
   "nbconvert_exporter": "python",
   "pygments_lexer": "ipython3",
   "version": "3.8.5"
  }
 },
 "nbformat": 4,
 "nbformat_minor": 2
}
